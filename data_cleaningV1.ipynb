{
 "cells": [
  {
   "cell_type": "code",
   "execution_count": 9,
   "id": "ac35d890",
   "metadata": {},
   "outputs": [],
   "source": [
    "import pandas as pd\n",
    "df = pd.read_csv('IPL_data.csv')\n",
    "df.columns = df.columns.str.replace(\" \", \"_\")\n",
    "df.columns = df.columns.str.replace(\"-\", \"_\")\n",
    "df.columns = df.columns.str.lower()\n",
    "pd.set_option('display.max_rows', None)\n",
    "pd.set_option('display.max_columns', None)\n",
    "pd.options.display.float_format = '{:,.2f}'.format"
   ]
  },
  {
   "cell_type": "code",
   "execution_count": 10,
   "id": "624e2fa7",
   "metadata": {},
   "outputs": [
    {
     "data": {
      "text/html": [
       "<div>\n",
       "<style scoped>\n",
       "    .dataframe tbody tr th:only-of-type {\n",
       "        vertical-align: middle;\n",
       "    }\n",
       "\n",
       "    .dataframe tbody tr th {\n",
       "        vertical-align: top;\n",
       "    }\n",
       "\n",
       "    .dataframe thead th {\n",
       "        text-align: right;\n",
       "    }\n",
       "</style>\n",
       "<table border=\"1\" class=\"dataframe\">\n",
       "  <thead>\n",
       "    <tr style=\"text-align: right;\">\n",
       "      <th></th>\n",
       "      <th>player</th>\n",
       "      <th>team</th>\n",
       "      <th>batting_score</th>\n",
       "      <th>bowling_score</th>\n",
       "      <th>overall_score</th>\n",
       "      <th>overall_e(d)</th>\n",
       "      <th>season</th>\n",
       "      <th>season_adj</th>\n",
       "      <th>player_team</th>\n",
       "      <th>player_team_season</th>\n",
       "      <th>salaries</th>\n",
       "    </tr>\n",
       "  </thead>\n",
       "  <tbody>\n",
       "    <tr>\n",
       "      <th>0</th>\n",
       "      <td>A Mishra</td>\n",
       "      <td>Delhi Daredevils</td>\n",
       "      <td>-13.37</td>\n",
       "      <td>64.80</td>\n",
       "      <td>51.43</td>\n",
       "      <td>51.43</td>\n",
       "      <td>2007_08</td>\n",
       "      <td>2007_08</td>\n",
       "      <td>A Mishra|Delhi Daredevils</td>\n",
       "      <td>A Mishra|Delhi Daredevils|2007_08</td>\n",
       "      <td>NaN</td>\n",
       "    </tr>\n",
       "    <tr>\n",
       "      <th>1</th>\n",
       "      <td>A Nehra</td>\n",
       "      <td>Mumbai Indians</td>\n",
       "      <td>-7.90</td>\n",
       "      <td>20.61</td>\n",
       "      <td>12.71</td>\n",
       "      <td>12.71</td>\n",
       "      <td>2007_08</td>\n",
       "      <td>2007_08</td>\n",
       "      <td>A Nehra|Mumbai Indians</td>\n",
       "      <td>A Nehra|Mumbai Indians|2007_08</td>\n",
       "      <td>NaN</td>\n",
       "    </tr>\n",
       "    <tr>\n",
       "      <th>2</th>\n",
       "      <td>AC Gilchrist</td>\n",
       "      <td>Deccan Chargers</td>\n",
       "      <td>21.23</td>\n",
       "      <td>0.00</td>\n",
       "      <td>21.23</td>\n",
       "      <td>21.23</td>\n",
       "      <td>2007_08</td>\n",
       "      <td>2007_08</td>\n",
       "      <td>AC Gilchrist|Deccan Chargers</td>\n",
       "      <td>AC Gilchrist|Deccan Chargers|2007_08</td>\n",
       "      <td>NaN</td>\n",
       "    </tr>\n",
       "    <tr>\n",
       "      <th>3</th>\n",
       "      <td>DJ Hussey</td>\n",
       "      <td>Kolkata Knight Riders</td>\n",
       "      <td>-32.26</td>\n",
       "      <td>-54.62</td>\n",
       "      <td>-86.88</td>\n",
       "      <td>-86.87</td>\n",
       "      <td>2007_08</td>\n",
       "      <td>2007_08</td>\n",
       "      <td>DJ Hussey|Kolkata Knight Riders</td>\n",
       "      <td>DJ Hussey|Kolkata Knight Riders|2007_08</td>\n",
       "      <td>NaN</td>\n",
       "    </tr>\n",
       "    <tr>\n",
       "      <th>4</th>\n",
       "      <td>DS Kulkarni</td>\n",
       "      <td>Mumbai Indians</td>\n",
       "      <td>-5.39</td>\n",
       "      <td>-5.01</td>\n",
       "      <td>-10.40</td>\n",
       "      <td>-10.40</td>\n",
       "      <td>2007_08</td>\n",
       "      <td>2007_08</td>\n",
       "      <td>DS Kulkarni|Mumbai Indians</td>\n",
       "      <td>DS Kulkarni|Mumbai Indians|2007_08</td>\n",
       "      <td>NaN</td>\n",
       "    </tr>\n",
       "  </tbody>\n",
       "</table>\n",
       "</div>"
      ],
      "text/plain": [
       "         player                   team  batting_score  bowling_score  \\\n",
       "0      A Mishra       Delhi Daredevils         -13.37          64.80   \n",
       "1       A Nehra         Mumbai Indians          -7.90          20.61   \n",
       "2  AC Gilchrist        Deccan Chargers          21.23           0.00   \n",
       "3     DJ Hussey  Kolkata Knight Riders         -32.26         -54.62   \n",
       "4   DS Kulkarni         Mumbai Indians          -5.39          -5.01   \n",
       "\n",
       "   overall_score  overall_e(d)   season season_adj  \\\n",
       "0          51.43         51.43  2007_08    2007_08   \n",
       "1          12.71         12.71  2007_08    2007_08   \n",
       "2          21.23         21.23  2007_08    2007_08   \n",
       "3         -86.88        -86.87  2007_08    2007_08   \n",
       "4         -10.40        -10.40  2007_08    2007_08   \n",
       "\n",
       "                       player_team                       player_team_season  \\\n",
       "0        A Mishra|Delhi Daredevils        A Mishra|Delhi Daredevils|2007_08   \n",
       "1           A Nehra|Mumbai Indians           A Nehra|Mumbai Indians|2007_08   \n",
       "2     AC Gilchrist|Deccan Chargers     AC Gilchrist|Deccan Chargers|2007_08   \n",
       "3  DJ Hussey|Kolkata Knight Riders  DJ Hussey|Kolkata Knight Riders|2007_08   \n",
       "4       DS Kulkarni|Mumbai Indians       DS Kulkarni|Mumbai Indians|2007_08   \n",
       "\n",
       "   salaries  \n",
       "0       NaN  \n",
       "1       NaN  \n",
       "2       NaN  \n",
       "3       NaN  \n",
       "4       NaN  "
      ]
     },
     "execution_count": 10,
     "metadata": {},
     "output_type": "execute_result"
    }
   ],
   "source": [
    "df.head(5)"
   ]
  },
  {
   "cell_type": "code",
   "execution_count": 11,
   "id": "f1fc08cb",
   "metadata": {},
   "outputs": [
    {
     "data": {
      "text/plain": [
       "array(['A Mishra', 'A Nehra', 'AC Gilchrist', 'DJ Hussey', 'DS Kulkarni',\n",
       "       'DW Steyn', 'G Gambhir', 'GC Smith', 'GD McGrath', 'IK Pathan',\n",
       "       'JA Morkel', 'JR Hopes', 'KC Sangakkara', 'L Balaji',\n",
       "       'M Muralitharan', 'MF Maharoof', 'MM Patel', 'MS Dhoni', 'MS Gony',\n",
       "       'MV Boucher', 'P Kumar', 'PA Patel', 'PP Chawla', 'PP Ojha',\n",
       "       'R Dravid', 'RG Sharma', 'RP Singh', 'RV Uthappa', 'S Dhawan',\n",
       "       'S Sreesanth', 'SA Asnodkar', 'SC Ganguly', 'SE Marsh', 'SK Raina',\n",
       "       'SK Trivedi', 'SK Warne', 'SM Pollock', 'SR Watson',\n",
       "       'ST Jayasuriya', 'Sohail Tanvir', 'Umar Gul', 'V Sehwag',\n",
       "       'VRV Singh', 'VY Mahesh', 'Y Venugopal Rao', 'YK Pathan',\n",
       "       'Yuvraj Singh', 'Z Khan', 'A Kumble', 'A Symonds', 'AD Mathews',\n",
       "       'AT Rayudu', 'CH Gayle', 'DE Bollinger', 'DPMD Jayawardene',\n",
       "       'HH Gibbs', 'Harbhajan Singh', 'JH Kallis', 'KA Pollard',\n",
       "       'KP Pietersen', 'M Vijay', 'MJ Lumb', 'MK Pandey', 'MK Tiwary',\n",
       "       'ML Hayden', 'MS Bisla', 'NV Ojha', 'R Ashwin', 'R Vinay Kumar',\n",
       "       'RJ Harris', 'RS Bopara', 'S Badrinath', 'SB Jakati', 'SL Malinga',\n",
       "       'SR Tendulkar', 'SS Tiwary', 'SW Tait', 'TL Suman', 'V Kohli',\n",
       "       'AB de Villiers', 'BB McCullum', 'BJ Hodge', 'DJ Bravo',\n",
       "       'DP Nannes', 'DR Smith', 'I Sharma', 'JP Duminy', 'KD Karthik',\n",
       "       'LRPL Taylor', 'PJ Sangwan', 'R Bhatia', 'RA Jadeja', 'TM Dilshan',\n",
       "       'YA Abdulla', 'AC Thomas', 'B Chipli', 'DL Vettori',\n",
       "       'Iqbal Abdulla', 'J Botha', 'JD Ryder', 'MEK Hussey',\n",
       "       'PC Valthaty', 'R Sharma', 'S Aravind', 'Shakib Al Hasan',\n",
       "       'A Ashish Reddy', 'A Singh', 'AL Menaria', 'AM Rahane',\n",
       "       'Azhar Mahmood', 'BW Hilfenhaus', 'CL White', 'DA Warner',\n",
       "       'F du Plessis', 'GB Hogg', 'KK Cooper', 'M Morkel',\n",
       "       'Mandeep Singh', 'OA Shah', 'P Awana', 'SP Narine', 'SPD Smith',\n",
       "       'UT Yadav', 'V Pratap Singh', 'AB Dinda', 'AJ Finch', 'B Kumar',\n",
       "       'CH Morris', 'DA Miller', 'EJG Morgan', 'GH Vihari', 'JD Unadkat',\n",
       "       'JP Faulkner', 'KV Sharma', 'MG Johnson', 'MM Sharma',\n",
       "       'NLTC Perera', 'R Rampaul', 'STR Binny', 'SV Samson', 'AR Patel',\n",
       "       'CJ Anderson', 'GJ Bailey', 'GJ Maxwell', 'KK Nair',\n",
       "       'Karanveer Singh', 'LMP Simmons', 'M Vohra', 'MA Starc',\n",
       "       'PV Tambe', 'R Dhawan', 'Sandeep Sharma', 'VR Aaron', 'WP Saha',\n",
       "       'YS Chahal', 'AD Russell', 'Anureet Singh', 'D Wiese', 'HV Patel',\n",
       "       'IC Pandey', 'Imran Tahir', 'J Suchith', 'MA Agarwal',\n",
       "       'MC Henriques', 'MJ McClenaghan', 'NM Coulter-Nile', 'SS Iyer',\n",
       "       'A Zampa', 'BB Sran', 'CJ Jordan', 'JC Buttler', 'JJ Bumrah',\n",
       "       'KH Pandya', 'KL Rahul', 'Mustafizur Rahman', 'Q de Kock',\n",
       "       'AJ Tye', 'BA Stokes', 'Basil Thampi', 'CA Lynn', 'CR Woakes',\n",
       "       'DT Christian', 'HH Pandya', 'HM Amla', 'Ishan Kishan',\n",
       "       'KM Jadhav', 'KS Williamson', 'Kuldeep Yadav', 'Mohammed Siraj',\n",
       "       'N Rana', 'P Negi', 'PJ Cummins', 'RA Tripathi', 'RR Pant',\n",
       "       'Rashid Khan', 'S Kaul', 'SN Thakur', 'AS Rajpoot', 'DL Chahar',\n",
       "       'E Lewis', 'JC Archer', 'K Gowtham', 'L Ngidi', 'M Markande',\n",
       "       'M Prasidh Krishna', 'Mujeeb Ur Rahman', 'PP Shaw', 'S Gopal',\n",
       "       'SA Yadav', 'Shubman Gill', 'TA Boult', 'V Shankar', 'JM Bairstow',\n",
       "       'K Rabada', 'KK Ahmed', 'MM Ali', 'MP Stoinis', 'Mohammed Shami',\n",
       "       'Navdeep Saini', 'RD Chahar', 'SM Curran', 'A Nortje', 'CV Varun',\n",
       "       'D Padikkal', 'JL Pattinson', 'JO Holder', 'M Ashwin', 'N Pooran',\n",
       "       'R Tewatia', 'RD Gaikwad', 'Ravi Bishnoi', 'T Natarajan',\n",
       "       'Arshdeep Singh', 'Avesh Khan', 'C Sakariya', 'JR Hazlewood',\n",
       "       'LH Ferguson', 'S Dube', 'SO Hetmyer', 'Shivam Mavi', 'VR Iyer',\n",
       "       'YBK Jaiswal', 'AK Markram', 'Abhishek Sharma', 'DP Conway',\n",
       "       'DR Sams', 'JM Sharma', 'LS Livingstone', 'M Theekshana',\n",
       "       'MR Marsh', 'Mukesh Choudhary', 'PWH de Silva', 'R Powell',\n",
       "       'RM Patidar', 'TG Southee', 'Tilak Varma', 'Umran Malik'],\n",
       "      dtype=object)"
      ]
     },
     "execution_count": 11,
     "metadata": {},
     "output_type": "execute_result"
    }
   ],
   "source": [
    "df.player.unique()"
   ]
  },
  {
   "cell_type": "code",
   "execution_count": 12,
   "id": "da5d3d53",
   "metadata": {},
   "outputs": [],
   "source": [
    "# df.player.value_counts()"
   ]
  },
  {
   "cell_type": "code",
   "execution_count": 13,
   "id": "d24b2ac1",
   "metadata": {},
   "outputs": [
    {
     "data": {
      "text/plain": [
       "257"
      ]
     },
     "execution_count": 13,
     "metadata": {},
     "output_type": "execute_result"
    }
   ],
   "source": [
    "df.player.nunique()"
   ]
  },
  {
   "cell_type": "code",
   "execution_count": 14,
   "id": "fbabe7ba",
   "metadata": {},
   "outputs": [
    {
     "data": {
      "text/plain": [
       "18"
      ]
     },
     "execution_count": 14,
     "metadata": {},
     "output_type": "execute_result"
    }
   ],
   "source": [
    "df.team.nunique()"
   ]
  },
  {
   "cell_type": "code",
   "execution_count": 15,
   "id": "465a8775",
   "metadata": {},
   "outputs": [
    {
     "ename": "AttributeError",
     "evalue": "'DataFrame' object has no attribute 'batting_e'",
     "output_type": "error",
     "traceback": [
      "\u001b[0;31m---------------------------------------------------------------------------\u001b[0m",
      "\u001b[0;31mAttributeError\u001b[0m                            Traceback (most recent call last)",
      "\u001b[0;32m/var/folders/81/2s24wkdd02j9528vnjsx7m080000gn/T/ipykernel_67333/729565075.py\u001b[0m in \u001b[0;36m<module>\u001b[0;34m\u001b[0m\n\u001b[0;32m----> 1\u001b[0;31m \u001b[0mdf\u001b[0m\u001b[0;34m.\u001b[0m\u001b[0mbatting_e\u001b[0m\u001b[0;34m(\u001b[0m\u001b[0md\u001b[0m\u001b[0;34m)\u001b[0m \u001b[0;34m.\u001b[0m\u001b[0mmax\u001b[0m\u001b[0;34m(\u001b[0m\u001b[0;34m)\u001b[0m\u001b[0;34m\u001b[0m\u001b[0;34m\u001b[0m\u001b[0m\n\u001b[0m",
      "\u001b[0;32m~/.pyenv/versions/3.10.0/lib/python3.10/site-packages/pandas/core/generic.py\u001b[0m in \u001b[0;36m__getattr__\u001b[0;34m(self, name)\u001b[0m\n\u001b[1;32m   5485\u001b[0m         ):\n\u001b[1;32m   5486\u001b[0m             \u001b[0;32mreturn\u001b[0m \u001b[0mself\u001b[0m\u001b[0;34m[\u001b[0m\u001b[0mname\u001b[0m\u001b[0;34m]\u001b[0m\u001b[0;34m\u001b[0m\u001b[0;34m\u001b[0m\u001b[0m\n\u001b[0;32m-> 5487\u001b[0;31m         \u001b[0;32mreturn\u001b[0m \u001b[0mobject\u001b[0m\u001b[0;34m.\u001b[0m\u001b[0m__getattribute__\u001b[0m\u001b[0;34m(\u001b[0m\u001b[0mself\u001b[0m\u001b[0;34m,\u001b[0m \u001b[0mname\u001b[0m\u001b[0;34m)\u001b[0m\u001b[0;34m\u001b[0m\u001b[0;34m\u001b[0m\u001b[0m\n\u001b[0m\u001b[1;32m   5488\u001b[0m \u001b[0;34m\u001b[0m\u001b[0m\n\u001b[1;32m   5489\u001b[0m     \u001b[0;32mdef\u001b[0m \u001b[0m__setattr__\u001b[0m\u001b[0;34m(\u001b[0m\u001b[0mself\u001b[0m\u001b[0;34m,\u001b[0m \u001b[0mname\u001b[0m\u001b[0;34m:\u001b[0m \u001b[0mstr\u001b[0m\u001b[0;34m,\u001b[0m \u001b[0mvalue\u001b[0m\u001b[0;34m)\u001b[0m \u001b[0;34m->\u001b[0m \u001b[0;32mNone\u001b[0m\u001b[0;34m:\u001b[0m\u001b[0;34m\u001b[0m\u001b[0;34m\u001b[0m\u001b[0m\n",
      "\u001b[0;31mAttributeError\u001b[0m: 'DataFrame' object has no attribute 'batting_e'"
     ]
    }
   ],
   "source": [
    "df.batting_e(d)\t.max()"
   ]
  },
  {
   "cell_type": "code",
   "execution_count": 19,
   "id": "8cf3483d",
   "metadata": {},
   "outputs": [
    {
     "ename": "TypeError",
     "evalue": "'DataFrame' object is not callable",
     "output_type": "error",
     "traceback": [
      "\u001b[0;31m---------------------------------------------------------------------------\u001b[0m",
      "\u001b[0;31mTypeError\u001b[0m                                 Traceback (most recent call last)",
      "\u001b[0;32m/var/folders/81/2s24wkdd02j9528vnjsx7m080000gn/T/ipykernel_67333/218465760.py\u001b[0m in \u001b[0;36m<module>\u001b[0;34m\u001b[0m\n\u001b[0;32m----> 1\u001b[0;31m \u001b[0mdf\u001b[0m\u001b[0;34m(\u001b[0m\u001b[0;34m'batting_e(d)'\u001b[0m\u001b[0;34m)\u001b[0m\u001b[0;34m.\u001b[0m\u001b[0mmax\u001b[0m\u001b[0;34m(\u001b[0m\u001b[0;34m)\u001b[0m\u001b[0;34m\u001b[0m\u001b[0;34m\u001b[0m\u001b[0m\n\u001b[0m",
      "\u001b[0;31mTypeError\u001b[0m: 'DataFrame' object is not callable"
     ]
    }
   ],
   "source": [
    "df('batting_e(d)').max()"
   ]
  },
  {
   "cell_type": "code",
   "execution_count": 20,
   "id": "918b7a3e",
   "metadata": {},
   "outputs": [
    {
     "data": {
      "text/plain": [
       "player                 object\n",
       "team                   object\n",
       "batting_score         float64\n",
       "bowling_score         float64\n",
       "overall_score         float64\n",
       "overall_e(d)          float64\n",
       "season                 object\n",
       "season_adj             object\n",
       "player_team            object\n",
       "player_team_season     object\n",
       "salaries              float64\n",
       "dtype: object"
      ]
     },
     "execution_count": 20,
     "metadata": {},
     "output_type": "execute_result"
    }
   ],
   "source": [
    "df.dtypes"
   ]
  },
  {
   "cell_type": "code",
   "execution_count": null,
   "id": "be092a18",
   "metadata": {},
   "outputs": [],
   "source": []
  }
 ],
 "metadata": {
  "kernelspec": {
   "display_name": "Python 3 (ipykernel)",
   "language": "python",
   "name": "python3"
  },
  "language_info": {
   "codemirror_mode": {
    "name": "ipython",
    "version": 3
   },
   "file_extension": ".py",
   "mimetype": "text/x-python",
   "name": "python",
   "nbconvert_exporter": "python",
   "pygments_lexer": "ipython3",
   "version": "3.10.0"
  }
 },
 "nbformat": 4,
 "nbformat_minor": 5
}
