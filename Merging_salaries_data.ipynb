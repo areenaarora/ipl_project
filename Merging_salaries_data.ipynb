{
 "cells": [
  {
   "cell_type": "code",
   "execution_count": 1,
   "id": "5bb243e7",
   "metadata": {},
   "outputs": [
    {
     "name": "stderr",
     "output_type": "stream",
     "text": [
      "/Users/areena.arora/.pyenv/versions/3.10.0/lib/python3.10/site-packages/pandas/compat/__init__.py:124: UserWarning: Could not import the lzma module. Your installed Python is incomplete. Attempting to use lzma compression will result in a RuntimeError.\n",
      "  warnings.warn(msg)\n"
     ]
    }
   ],
   "source": [
    "import pandas as pd\n",
    "df = pd.read_csv('salaries_clean.csv')\n",
    "df.columns = df.columns.str.replace(\" \", \"_\")\n",
    "df.columns = df.columns.str.replace(\"-\", \"_\")\n",
    "df.columns = df.columns.str.lower()\n",
    "pd.set_option('display.max_rows', None)\n",
    "pd.set_option('display.max_columns', None)\n",
    "pd.options.display.float_format = '{:,.2f}'.format"
   ]
  },
  {
   "cell_type": "code",
   "execution_count": 2,
   "id": "4f34377f",
   "metadata": {},
   "outputs": [],
   "source": [
    "df_perf = pd.read_csv('IPL_data.csv')"
   ]
  },
  {
   "cell_type": "code",
   "execution_count": 3,
   "id": "790db86e",
   "metadata": {},
   "outputs": [
    {
     "data": {
      "text/html": [
       "<div>\n",
       "<style scoped>\n",
       "    .dataframe tbody tr th:only-of-type {\n",
       "        vertical-align: middle;\n",
       "    }\n",
       "\n",
       "    .dataframe tbody tr th {\n",
       "        vertical-align: top;\n",
       "    }\n",
       "\n",
       "    .dataframe thead th {\n",
       "        text-align: right;\n",
       "    }\n",
       "</style>\n",
       "<table border=\"1\" class=\"dataframe\">\n",
       "  <thead>\n",
       "    <tr style=\"text-align: right;\">\n",
       "      <th></th>\n",
       "      <th>name</th>\n",
       "      <th>season</th>\n",
       "      <th>team</th>\n",
       "      <th>_price_</th>\n",
       "    </tr>\n",
       "  </thead>\n",
       "  <tbody>\n",
       "    <tr>\n",
       "      <th>0</th>\n",
       "      <td>A Flintoff</td>\n",
       "      <td>2009</td>\n",
       "      <td>Chennai Super Kings</td>\n",
       "      <td>$1,550,000.00</td>\n",
       "    </tr>\n",
       "    <tr>\n",
       "      <th>1</th>\n",
       "      <td>GJ Bailey</td>\n",
       "      <td>2009</td>\n",
       "      <td>Chennai Super Kings</td>\n",
       "      <td>$50,000.00</td>\n",
       "    </tr>\n",
       "    <tr>\n",
       "      <th>2</th>\n",
       "      <td>JA Morkel</td>\n",
       "      <td>2009</td>\n",
       "      <td>Chennai Super Kings</td>\n",
       "      <td>$675,000.00</td>\n",
       "    </tr>\n",
       "  </tbody>\n",
       "</table>\n",
       "</div>"
      ],
      "text/plain": [
       "         name  season                 team          _price_\n",
       "0  A Flintoff    2009  Chennai Super Kings   $1,550,000.00 \n",
       "1   GJ Bailey    2009  Chennai Super Kings      $50,000.00 \n",
       "2   JA Morkel    2009  Chennai Super Kings     $675,000.00 "
      ]
     },
     "execution_count": 3,
     "metadata": {},
     "output_type": "execute_result"
    }
   ],
   "source": [
    "df.head(3)"
   ]
  },
  {
   "cell_type": "code",
   "execution_count": 4,
   "id": "7260c58d",
   "metadata": {},
   "outputs": [
    {
     "data": {
      "text/html": [
       "<div>\n",
       "<style scoped>\n",
       "    .dataframe tbody tr th:only-of-type {\n",
       "        vertical-align: middle;\n",
       "    }\n",
       "\n",
       "    .dataframe tbody tr th {\n",
       "        vertical-align: top;\n",
       "    }\n",
       "\n",
       "    .dataframe thead th {\n",
       "        text-align: right;\n",
       "    }\n",
       "</style>\n",
       "<table border=\"1\" class=\"dataframe\">\n",
       "  <thead>\n",
       "    <tr style=\"text-align: right;\">\n",
       "      <th></th>\n",
       "      <th>Player</th>\n",
       "      <th>Team</th>\n",
       "      <th>batting_score</th>\n",
       "      <th>bowling_score</th>\n",
       "      <th>overall_score</th>\n",
       "      <th>Overall E(D)</th>\n",
       "      <th>Season</th>\n",
       "      <th>Season_Adj</th>\n",
       "      <th>Player_team</th>\n",
       "      <th>Player_team_season</th>\n",
       "      <th>Salaries</th>\n",
       "    </tr>\n",
       "  </thead>\n",
       "  <tbody>\n",
       "    <tr>\n",
       "      <th>0</th>\n",
       "      <td>A Mishra</td>\n",
       "      <td>Delhi Daredevils</td>\n",
       "      <td>-13.37</td>\n",
       "      <td>64.80</td>\n",
       "      <td>51.43</td>\n",
       "      <td>51.43</td>\n",
       "      <td>2007_08</td>\n",
       "      <td>2007_08</td>\n",
       "      <td>A Mishra|Delhi Daredevils</td>\n",
       "      <td>A Mishra|Delhi Daredevils|2007_08</td>\n",
       "      <td>NaN</td>\n",
       "    </tr>\n",
       "    <tr>\n",
       "      <th>1</th>\n",
       "      <td>A Nehra</td>\n",
       "      <td>Mumbai Indians</td>\n",
       "      <td>-7.90</td>\n",
       "      <td>20.61</td>\n",
       "      <td>12.71</td>\n",
       "      <td>12.71</td>\n",
       "      <td>2007_08</td>\n",
       "      <td>2007_08</td>\n",
       "      <td>A Nehra|Mumbai Indians</td>\n",
       "      <td>A Nehra|Mumbai Indians|2007_08</td>\n",
       "      <td>NaN</td>\n",
       "    </tr>\n",
       "    <tr>\n",
       "      <th>2</th>\n",
       "      <td>AC Gilchrist</td>\n",
       "      <td>Deccan Chargers</td>\n",
       "      <td>21.23</td>\n",
       "      <td>0.00</td>\n",
       "      <td>21.23</td>\n",
       "      <td>21.23</td>\n",
       "      <td>2007_08</td>\n",
       "      <td>2007_08</td>\n",
       "      <td>AC Gilchrist|Deccan Chargers</td>\n",
       "      <td>AC Gilchrist|Deccan Chargers|2007_08</td>\n",
       "      <td>NaN</td>\n",
       "    </tr>\n",
       "  </tbody>\n",
       "</table>\n",
       "</div>"
      ],
      "text/plain": [
       "         Player              Team  batting_score  bowling_score  \\\n",
       "0      A Mishra  Delhi Daredevils         -13.37          64.80   \n",
       "1       A Nehra    Mumbai Indians          -7.90          20.61   \n",
       "2  AC Gilchrist   Deccan Chargers          21.23           0.00   \n",
       "\n",
       "   overall_score  Overall E(D)   Season Season_Adj  \\\n",
       "0          51.43         51.43  2007_08    2007_08   \n",
       "1          12.71         12.71  2007_08    2007_08   \n",
       "2          21.23         21.23  2007_08    2007_08   \n",
       "\n",
       "                    Player_team                    Player_team_season  \\\n",
       "0     A Mishra|Delhi Daredevils     A Mishra|Delhi Daredevils|2007_08   \n",
       "1        A Nehra|Mumbai Indians        A Nehra|Mumbai Indians|2007_08   \n",
       "2  AC Gilchrist|Deccan Chargers  AC Gilchrist|Deccan Chargers|2007_08   \n",
       "\n",
       "   Salaries  \n",
       "0       NaN  \n",
       "1       NaN  \n",
       "2       NaN  "
      ]
     },
     "execution_count": 4,
     "metadata": {},
     "output_type": "execute_result"
    }
   ],
   "source": [
    "df_perf.head(3)"
   ]
  },
  {
   "cell_type": "code",
   "execution_count": null,
   "id": "e548112d",
   "metadata": {},
   "outputs": [],
   "source": []
  }
 ],
 "metadata": {
  "kernelspec": {
   "display_name": "Python 3 (ipykernel)",
   "language": "python",
   "name": "python3"
  },
  "language_info": {
   "codemirror_mode": {
    "name": "ipython",
    "version": 3
   },
   "file_extension": ".py",
   "mimetype": "text/x-python",
   "name": "python",
   "nbconvert_exporter": "python",
   "pygments_lexer": "ipython3",
   "version": "3.10.0"
  }
 },
 "nbformat": 4,
 "nbformat_minor": 5
}
